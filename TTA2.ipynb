{
 "cells": [
  {
   "cell_type": "code",
   "execution_count": 11,
   "metadata": {},
   "outputs": [],
   "source": [
    "#grocery list available at the walmart\n",
    "\n",
    "GROCERY = {\"coffee\", \"bread\", \"toothpaste\", \"milk\", \"honey\", \"cereals\", 'egg'}\n",
    "\n",
    "\n",
    "def get_order():\n",
    "    current_order = []\n",
    "    while True:\n",
    "        print(\"What would you love to get?\")\n",
    "        order = input()\n",
    "        if order in GROCERY:\n",
    "            current_order.append(order)\n",
    "        else:\n",
    "            print(\"I'm sorry, its presently out of stock.\")\n"
   ]
  },
  {
   "cell_type": "markdown",
   "metadata": {},
   "source": []
  },
  {
   "cell_type": "markdown",
   "metadata": {},
   "source": [
    "Write a program which will ask for two numbers \n",
    "from a user. Then offer an option menu to the user \n",
    "giving them a choice of maths operators. Once the \n",
    "user has selected which operator they wish to use, \n",
    "perform the calculation by using a procedure and \n",
    "passing parameters."
   ]
  },
  {
   "cell_type": "code",
   "execution_count": 13,
   "metadata": {},
   "outputs": [
    {
     "name": "stdout",
     "output_type": "stream",
     "text": [
      "Enter which operation would you like to perform?\n",
      "8 - 4 : 4\n"
     ]
    }
   ],
   "source": [
    "\n",
    "\n",
    "# Python program to perform maths operations\n",
    "\n",
    "num1 = int(input(\"Enter First Number: \"))\n",
    "num2 = int(input(\"Enter Second Number: \"))\n",
    "\n",
    "print(\"Enter which operation would you like to perform?\")\n",
    "ch = input(\"Enter any of these char for specific operation +,-,*,/: \")\n",
    "\n",
    "result = 0\n",
    "if ch == '+':\n",
    "    result = num1 + num2\n",
    "elif ch == '-':\n",
    "    result = num1 - num2\n",
    "elif ch == '*':\n",
    "    result = num1 * num2\n",
    "elif ch == '/':\n",
    "    result = num1 / num2\n",
    "else:\n",
    "    print(\"Input operator is not recognized!\")\n",
    "\n",
    "print(num1, ch , num2, \":\", result)"
   ]
  }
 ],
 "metadata": {
  "interpreter": {
   "hash": "5d240ba0dc525c389faa33f5dcce5b4f32b6d6aa6d70d6d2dd929bd2b09ab69f"
  },
  "kernelspec": {
   "display_name": "Python 3.10.0 64-bit",
   "language": "python",
   "name": "python3"
  },
  "language_info": {
   "codemirror_mode": {
    "name": "ipython",
    "version": 3
   },
   "file_extension": ".py",
   "mimetype": "text/x-python",
   "name": "python",
   "nbconvert_exporter": "python",
   "pygments_lexer": "ipython3",
   "version": "3.10.0"
  },
  "orig_nbformat": 4
 },
 "nbformat": 4,
 "nbformat_minor": 2
}
